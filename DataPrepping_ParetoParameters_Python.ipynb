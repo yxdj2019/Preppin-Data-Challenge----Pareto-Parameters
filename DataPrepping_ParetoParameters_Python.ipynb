{
 "cells": [
  {
   "cell_type": "code",
   "execution_count": 1,
   "metadata": {},
   "outputs": [],
   "source": [
    "import pandas as pd\n",
    "import numpy as np"
   ]
  },
  {
   "cell_type": "code",
   "execution_count": 2,
   "metadata": {},
   "outputs": [],
   "source": [
    "# read data\n",
    "df=pd.read_csv('Pareto Input.csv')"
   ]
  },
  {
   "cell_type": "code",
   "execution_count": 3,
   "metadata": {},
   "outputs": [
    {
     "data": {
      "text/plain": [
       "(4365, 5)"
      ]
     },
     "execution_count": 3,
     "metadata": {},
     "output_type": "execute_result"
    }
   ],
   "source": [
    "df.shape"
   ]
  },
  {
   "cell_type": "code",
   "execution_count": 4,
   "metadata": {},
   "outputs": [
    {
     "name": "stdout",
     "output_type": "stream",
     "text": [
      "<class 'pandas.core.frame.DataFrame'>\n",
      "RangeIndex: 4365 entries, 0 to 4364\n",
      "Data columns (total 5 columns):\n",
      " #   Column       Non-Null Count  Dtype  \n",
      "---  ------       --------------  -----  \n",
      " 0   Customer ID  4365 non-null   int64  \n",
      " 1   First Name   4365 non-null   object \n",
      " 2   Surname      4365 non-null   object \n",
      " 3   Order ID     4365 non-null   int64  \n",
      " 4   Sales        4365 non-null   float64\n",
      "dtypes: float64(1), int64(2), object(2)\n",
      "memory usage: 170.6+ KB\n"
     ]
    }
   ],
   "source": [
    "df.info()"
   ]
  },
  {
   "cell_type": "code",
   "execution_count": 5,
   "metadata": {},
   "outputs": [
    {
     "data": {
      "text/html": [
       "<div>\n",
       "<style scoped>\n",
       "    .dataframe tbody tr th:only-of-type {\n",
       "        vertical-align: middle;\n",
       "    }\n",
       "\n",
       "    .dataframe tbody tr th {\n",
       "        vertical-align: top;\n",
       "    }\n",
       "\n",
       "    .dataframe thead th {\n",
       "        text-align: right;\n",
       "    }\n",
       "</style>\n",
       "<table border=\"1\" class=\"dataframe\">\n",
       "  <thead>\n",
       "    <tr style=\"text-align: right;\">\n",
       "      <th></th>\n",
       "      <th>Customer ID</th>\n",
       "      <th>First Name</th>\n",
       "      <th>Surname</th>\n",
       "      <th>Order ID</th>\n",
       "      <th>Sales</th>\n",
       "    </tr>\n",
       "  </thead>\n",
       "  <tbody>\n",
       "    <tr>\n",
       "      <th>0</th>\n",
       "      <td>247</td>\n",
       "      <td>Kevina</td>\n",
       "      <td>Teresse</td>\n",
       "      <td>1087</td>\n",
       "      <td>699.192</td>\n",
       "    </tr>\n",
       "    <tr>\n",
       "      <th>1</th>\n",
       "      <td>562</td>\n",
       "      <td>Harry</td>\n",
       "      <td>O'Malley</td>\n",
       "      <td>1088</td>\n",
       "      <td>91.056</td>\n",
       "    </tr>\n",
       "    <tr>\n",
       "      <th>2</th>\n",
       "      <td>345</td>\n",
       "      <td>Kristofor</td>\n",
       "      <td>Sprigin</td>\n",
       "      <td>1089</td>\n",
       "      <td>3.928</td>\n",
       "    </tr>\n",
       "    <tr>\n",
       "      <th>3</th>\n",
       "      <td>394</td>\n",
       "      <td>Russell</td>\n",
       "      <td>Poore</td>\n",
       "      <td>1090</td>\n",
       "      <td>21.376</td>\n",
       "    </tr>\n",
       "    <tr>\n",
       "      <th>4</th>\n",
       "      <td>439</td>\n",
       "      <td>Kelsey</td>\n",
       "      <td>Fardo</td>\n",
       "      <td>1092</td>\n",
       "      <td>697.074</td>\n",
       "    </tr>\n",
       "  </tbody>\n",
       "</table>\n",
       "</div>"
      ],
      "text/plain": [
       "   Customer ID First Name   Surname  Order ID    Sales\n",
       "0          247     Kevina   Teresse      1087  699.192\n",
       "1          562      Harry  O'Malley      1088   91.056\n",
       "2          345  Kristofor   Sprigin      1089    3.928\n",
       "3          394    Russell     Poore      1090   21.376\n",
       "4          439     Kelsey     Fardo      1092  697.074"
      ]
     },
     "execution_count": 5,
     "metadata": {},
     "output_type": "execute_result"
    }
   ],
   "source": [
    "df.head()"
   ]
  },
  {
   "cell_type": "code",
   "execution_count": 10,
   "metadata": {},
   "outputs": [],
   "source": [
    "# drop Order ID\n",
    "df.drop(columns='Order ID', inplace=True)"
   ]
  },
  {
   "cell_type": "code",
   "execution_count": 21,
   "metadata": {},
   "outputs": [],
   "source": [
    "# groupby customer ID\n",
    "df_new=df.groupby(['Customer ID','First Name','Surname'], as_index=False).sum('Sales').sort_values(by='Sales', ascending=False)"
   ]
  },
  {
   "cell_type": "code",
   "execution_count": 35,
   "metadata": {},
   "outputs": [],
   "source": [
    "# add column '% of Total'\n",
    "df_new['% of Total']=df_new['Sales']/df_new['Sales'].sum()*100"
   ]
  },
  {
   "cell_type": "code",
   "execution_count": 36,
   "metadata": {},
   "outputs": [
    {
     "data": {
      "text/html": [
       "<div>\n",
       "<style scoped>\n",
       "    .dataframe tbody tr th:only-of-type {\n",
       "        vertical-align: middle;\n",
       "    }\n",
       "\n",
       "    .dataframe tbody tr th {\n",
       "        vertical-align: top;\n",
       "    }\n",
       "\n",
       "    .dataframe thead th {\n",
       "        text-align: right;\n",
       "    }\n",
       "</style>\n",
       "<table border=\"1\" class=\"dataframe\">\n",
       "  <thead>\n",
       "    <tr style=\"text-align: right;\">\n",
       "      <th></th>\n",
       "      <th>Customer ID</th>\n",
       "      <th>First Name</th>\n",
       "      <th>Surname</th>\n",
       "      <th>Sales</th>\n",
       "      <th>% of Total</th>\n",
       "      <th>Running % of Total Sales</th>\n",
       "    </tr>\n",
       "  </thead>\n",
       "  <tbody>\n",
       "    <tr>\n",
       "      <th>615</th>\n",
       "      <td>701</td>\n",
       "      <td>Burnaby</td>\n",
       "      <td>Fruish</td>\n",
       "      <td>25043.050</td>\n",
       "      <td>1.258279</td>\n",
       "      <td>0.013</td>\n",
       "    </tr>\n",
       "    <tr>\n",
       "      <th>648</th>\n",
       "      <td>742</td>\n",
       "      <td>Boniface</td>\n",
       "      <td>Deboo</td>\n",
       "      <td>19052.218</td>\n",
       "      <td>0.957272</td>\n",
       "      <td>0.022</td>\n",
       "    </tr>\n",
       "    <tr>\n",
       "      <th>5</th>\n",
       "      <td>7</td>\n",
       "      <td>Vernon</td>\n",
       "      <td>Tomaskov</td>\n",
       "      <td>14473.571</td>\n",
       "      <td>0.727219</td>\n",
       "      <td>0.029</td>\n",
       "    </tr>\n",
       "    <tr>\n",
       "      <th>373</th>\n",
       "      <td>435</td>\n",
       "      <td>Stormi</td>\n",
       "      <td>Langman</td>\n",
       "      <td>14175.229</td>\n",
       "      <td>0.712229</td>\n",
       "      <td>0.037</td>\n",
       "    </tr>\n",
       "    <tr>\n",
       "      <th>588</th>\n",
       "      <td>670</td>\n",
       "      <td>Hayes</td>\n",
       "      <td>Treharne</td>\n",
       "      <td>14142.334</td>\n",
       "      <td>0.710577</td>\n",
       "      <td>0.044</td>\n",
       "    </tr>\n",
       "  </tbody>\n",
       "</table>\n",
       "</div>"
      ],
      "text/plain": [
       "     Customer ID First Name   Surname      Sales  % of Total  \\\n",
       "615          701    Burnaby    Fruish  25043.050    1.258279   \n",
       "648          742   Boniface     Deboo  19052.218    0.957272   \n",
       "5              7     Vernon  Tomaskov  14473.571    0.727219   \n",
       "373          435     Stormi   Langman  14175.229    0.712229   \n",
       "588          670      Hayes  Treharne  14142.334    0.710577   \n",
       "\n",
       "     Running % of Total Sales  \n",
       "615                     0.013  \n",
       "648                     0.022  \n",
       "5                       0.029  \n",
       "373                     0.037  \n",
       "588                     0.044  "
      ]
     },
     "execution_count": 36,
     "metadata": {},
     "output_type": "execute_result"
    }
   ],
   "source": [
    "df_new.head()"
   ]
  },
  {
   "cell_type": "code",
   "execution_count": 39,
   "metadata": {},
   "outputs": [],
   "source": [
    "# add accunulative sum of %\n",
    "df_new['Running % of Total Sales']=df_new['% of Total'].cumsum().round(2)"
   ]
  },
  {
   "cell_type": "code",
   "execution_count": 43,
   "metadata": {},
   "outputs": [],
   "source": [
    "# if Pareto Parameters is 80%\n",
    "Pareto=80\n",
    "\n",
    "df_80=df_new[df_new['Running % of Total Sales']<=Pareto]"
   ]
  },
  {
   "cell_type": "code",
   "execution_count": 44,
   "metadata": {},
   "outputs": [],
   "source": [
    "# output\n",
    "df_80.to_csv('Output_ParetoParameter80%.csv', index=False)"
   ]
  }
 ],
 "metadata": {
  "kernelspec": {
   "display_name": "Python 3",
   "language": "python",
   "name": "python3"
  },
  "language_info": {
   "codemirror_mode": {
    "name": "ipython",
    "version": 3
   },
   "file_extension": ".py",
   "mimetype": "text/x-python",
   "name": "python",
   "nbconvert_exporter": "python",
   "pygments_lexer": "ipython3",
   "version": "3.7.4"
  }
 },
 "nbformat": 4,
 "nbformat_minor": 2
}
